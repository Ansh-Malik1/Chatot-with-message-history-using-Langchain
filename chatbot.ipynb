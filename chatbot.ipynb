{
 "cells": [
  {
   "cell_type": "code",
   "execution_count": 4,
   "metadata": {},
   "outputs": [
    {
     "data": {
      "text/plain": [
       "True"
      ]
     },
     "execution_count": 4,
     "metadata": {},
     "output_type": "execute_result"
    }
   ],
   "source": [
    "import os\n",
    "from dotenv import load_dotenv\n",
    "load_dotenv()"
   ]
  },
  {
   "cell_type": "code",
   "execution_count": 6,
   "metadata": {},
   "outputs": [
    {
     "data": {
      "text/plain": [
       "ChatGroq(client=<groq.resources.chat.completions.Completions object at 0x000001D871735C40>, async_client=<groq.resources.chat.completions.AsyncCompletions object at 0x000001D8717BE150>, model_name='gemma2-9b-It', model_kwargs={}, groq_api_key=SecretStr('**********'))"
      ]
     },
     "execution_count": 6,
     "metadata": {},
     "output_type": "execute_result"
    }
   ],
   "source": [
    "groq_api_key=os.getenv(\"GROQ_API_KEY\")\n",
    "from langchain_groq import ChatGroq\n",
    "\n",
    "model=ChatGroq(model=\"gemma2-9b-It\",api_key=groq_api_key)\n",
    "model"
   ]
  },
  {
   "cell_type": "code",
   "execution_count": 8,
   "metadata": {},
   "outputs": [
    {
     "data": {
      "text/plain": [
       "AIMessage(content=\"Hello Ansh! 👋\\n\\nIt's nice to meet you. This is a great test string! Is there anything specific you'd like me to do with it, or are you just testing if I can understand and respond?  \\n\\nI'm ready for your instructions! 😊  \\n\\n\", additional_kwargs={}, response_metadata={'token_usage': {'completion_tokens': 63, 'prompt_tokens': 26, 'total_tokens': 89, 'completion_time': 0.114545455, 'prompt_time': 0.002386362, 'queue_time': 0.609430982, 'total_time': 0.116931817}, 'model_name': 'gemma2-9b-It', 'system_fingerprint': 'fp_10c08bf97d', 'finish_reason': 'stop', 'logprobs': None}, id='run-12b41933-b10e-4cfa-8691-4b2d0a2da52b-0', usage_metadata={'input_tokens': 26, 'output_tokens': 63, 'total_tokens': 89})"
      ]
     },
     "execution_count": 8,
     "metadata": {},
     "output_type": "execute_result"
    }
   ],
   "source": [
    "from langchain_core.messages import HumanMessage,SystemMessage,AIMessage\n",
    "\n",
    "model.invoke([HumanMessage(content=\"Hello Everyone. My name is Ansh.This is a test string for our model\")])\n"
   ]
  },
  {
   "cell_type": "code",
   "execution_count": 10,
   "metadata": {},
   "outputs": [
    {
     "data": {
      "text/plain": [
       "AIMessage(content='Your name is Ansh. 😊  I remember! \\n\\n\\n', additional_kwargs={}, response_metadata={'token_usage': {'completion_tokens': 15, 'prompt_tokens': 101, 'total_tokens': 116, 'completion_time': 0.027272727, 'prompt_time': 0.003644099, 'queue_time': 0.018363398, 'total_time': 0.030916826}, 'model_name': 'gemma2-9b-It', 'system_fingerprint': 'fp_10c08bf97d', 'finish_reason': 'stop', 'logprobs': None}, id='run-ff59443a-f609-4809-9152-14e52d7c2216-0', usage_metadata={'input_tokens': 101, 'output_tokens': 15, 'total_tokens': 116})"
      ]
     },
     "execution_count": 10,
     "metadata": {},
     "output_type": "execute_result"
    }
   ],
   "source": [
    "model.invoke(\n",
    "    [\n",
    "       HumanMessage(content=\"Hello Everyone. My name is Ansh.This is a test string for our model\"), \n",
    "       AIMessage(content=\"Hello Ansh! 👋\\n\\nIt's nice to meet you. This is a great test string! Is there anything specific you'd like me to do with it, or are you just testing if I can understand and respond?  \\n\\nI'm ready for your instructions! 😊  \\n\\n\"),\n",
    "       HumanMessage(content=\"What is my name?\")\n",
    "    ]\n",
    "    )"
   ]
  },
  {
   "cell_type": "markdown",
   "metadata": {},
   "source": [
    "#### Message History\n",
    "##### We can use a message history wrapper class to wrap our model and make it stateful. This will keep track of inputs and outputs of the model, and store them in some datastore. Future interaction will then load these messages and pass them to the chain as a part of the input."
   ]
  },
  {
   "cell_type": "code",
   "execution_count": 13,
   "metadata": {},
   "outputs": [],
   "source": [
    "from langchain_community.chat_message_histories import ChatMessageHistory\n",
    "from langchain_core.chat_history import BaseChatMessageHistory\n",
    "from langchain_core.runnables.history import RunnableWithMessageHistory\n",
    "\n",
    "\n",
    "store = {}\n",
    "def get_session_history(session_id:str)-> BaseChatMessageHistory:\n",
    "    if session_id not in store:\n",
    "        store[session_id] = ChatMessageHistory()\n",
    "    return store[session_id]\n",
    "\n",
    "with_message_history=RunnableWithMessageHistory(model,get_session_history)"
   ]
  },
  {
   "cell_type": "code",
   "execution_count": 14,
   "metadata": {},
   "outputs": [],
   "source": [
    "config={\"configurable\":{\"session_id\":\"chat1\"}} "
   ]
  },
  {
   "cell_type": "code",
   "execution_count": 17,
   "metadata": {},
   "outputs": [],
   "source": [
    "response = with_message_history.invoke(\n",
    "    [HumanMessage(content=\"Hello, My name is Ansh and I am an AIML student pursuing B.Tech from MAIT\")],\n",
    "    config=config\n",
    ")"
   ]
  },
  {
   "cell_type": "code",
   "execution_count": 19,
   "metadata": {},
   "outputs": [
    {
     "name": "stdout",
     "output_type": "stream",
     "text": [
      "Hi Ansh! \n",
      "\n",
      "It's nice to meet you.  That's great that you're studying AIML at MAIT. It's a fascinating field!\n",
      "\n",
      "Is there anything specific about AIML that you're particularly interested in?  Maybe a certain application or area of research?  I'd love to hear more about your studies. 😊 \n",
      "\n",
      "\n"
     ]
    }
   ],
   "source": [
    "print(response.content)"
   ]
  },
  {
   "cell_type": "code",
   "execution_count": 23,
   "metadata": {},
   "outputs": [
    {
     "name": "stdout",
     "output_type": "stream",
     "text": [
      "You're right to keep asking!  It's important to be specific.  \n",
      "\n",
      "Since you're at MAIT, let's look at what their AIML B.Tech program likely covers. I've done some research, and here's a breakdown based on typical AIML curriculums:\n",
      "\n",
      "**Year 1: Building Blocks**\n",
      "\n",
      "* **Programming:** C++, Python fundamentals.\n",
      "* **Mathematics:** Calculus I & II, Linear Algebra, Discrete Mathematics.\n",
      "* **Computer Science:** Data Structures, Algorithms, Object-Oriented Programming, Computer Architecture.\n",
      "* **Introduction to AI:**  AI concepts, history, types, ethics.\n",
      "\n",
      "**Year 2:  Deepening Your Knowledge**\n",
      "\n",
      "* **Programming:** Advanced Python, data structures & algorithms.\n",
      "* **Mathematics:** Probability & Statistics, Digital Logic Design.\n",
      "* **Computer Science:** Operating Systems, Databases, Software Engineering.\n",
      "* **Machine Learning:**  Supervised & unsupervised learning algorithms (regression, classification, clustering).\n",
      "\n",
      "**Year 3:  Diving into AIML**\n",
      "\n",
      "* **Deep Learning:** Neural networks, convolutional networks, recurrent networks.\n",
      "* **Natural Language Processing:** Text processing, language models, sentiment analysis.\n",
      "* **Computer Vision:** Image processing, object detection, image recognition.\n",
      "* **Robotics:**  Introduction to robotics, kinematics, control.\n",
      "\n",
      "**Year 4: Specialization and Application**\n",
      "\n",
      "* **Specialized Electives:** Choose from areas like computer vision, NLP, robotics, AI ethics, etc.\n",
      "* **Capstone Project:** Apply your skills to a real-world AI project.\n",
      "\n",
      "**Beyond the Coursework:**\n",
      "\n",
      "* **Labs and Projects:** Hands-on experience with AIML tools and libraries (TensorFlow, PyTorch, OpenCV).\n",
      "\n",
      "* **Internships:** Gain practical experience in the industry.\n",
      "\n",
      "**Important Note:** This is a general outline. MAIT's curriculum may have specific variations.\n",
      "\n",
      "**My Best Advice:**\n",
      "\n",
      "* **Talk to your professors and academic advisors:** They can provide the most accurate and up-to-date information about your program.\n",
      "* **Explore MAIT's AIML lab resources and projects:** This will give you a better sense of the practical aspects of the program.\n",
      "* **Stay curious and keep learning!**  AIML is a rapidly evolving field, so continuous learning is key to success.\n",
      "\n",
      "\n",
      "\n",
      "\n"
     ]
    }
   ],
   "source": [
    "print(with_message_history.invoke(\n",
    "    [HumanMessage(content=\"What do I study?\")],\n",
    "    config=config\n",
    ").content)"
   ]
  },
  {
   "cell_type": "code",
   "execution_count": 24,
   "metadata": {},
   "outputs": [
    {
     "name": "stdout",
     "output_type": "stream",
     "text": [
      "I need more information to help you figure out what to study!\n",
      "\n",
      "To give you the best advice, tell me about:\n",
      "\n",
      "* **Your interests:** What subjects do you enjoy learning about? What are you passionate about?\n",
      "* **Your skills and strengths:** What are you good at? What comes naturally to you?\n",
      "* **Your career goals:** What kind of job do you want to have? What kind of impact do you want to make on the world?\n",
      "* **Your personality:** Are you introverted or extroverted? Do you prefer working independently or in teams? Do you like structure or flexibility?\n",
      "* **Your learning style:** How do you learn best? Do you prefer reading, listening, watching, or doing?\n",
      "\n",
      "Once I have a better understanding of who you are and what you're looking for, I can give you some personalized suggestions for what to study.\n",
      "\n",
      "Here are some general resources that might also be helpful:\n",
      "\n",
      "* **Career aptitude tests:** These tests can help you identify your interests and skills.\n",
      "* **College and university websites:** Many schools have resources on different majors and careers.\n",
      "* **Talk to people in your field of interest:** Get their insights on what it takes to succeed in that field.\n",
      "\n",
      "\n",
      "Let's work together to find the perfect study path for you!\n",
      "\n"
     ]
    }
   ],
   "source": [
    "# Changing the session id\n",
    "config={\"configurable\":{\"session_id\":\"chat2\"}} \n",
    "response = with_message_history.invoke(\n",
    "    [HumanMessage(content=\"What do I study?\")],\n",
    "    config=config\n",
    ")\n",
    "print(response.content)"
   ]
  },
  {
   "cell_type": "code",
   "execution_count": 25,
   "metadata": {},
   "outputs": [
    {
     "name": "stdout",
     "output_type": "stream",
     "text": [
      "That's fantastic! AIML (Artificial Intelligence Markup Language) is a really exciting field to be in. \n",
      "\n",
      "Since you're already studying AIML, I can offer some more specific advice on how to make the most of your learning journey:\n",
      "\n",
      "**Deepen your understanding of core concepts:**\n",
      "\n",
      "* **Machine Learning Algorithms:**  Dive deeper into algorithms like decision trees, support vector machines, and neural networks. Understand how they work, their strengths and weaknesses, and when to apply them.\n",
      "* **Natural Language Processing (NLP):**  AIML heavily relies on NLP. Explore topics like text classification, sentiment analysis, and language modeling.\n",
      "\n",
      "**Get hands-on experience:**\n",
      "\n",
      "* **Build your own AIML projects:**  Practice is key! Start with small projects like a chatbot or a simple image classifier. \n",
      "* **Contribute to open-source AIML projects:**  This is a great way to learn from experienced developers and build your portfolio.\n",
      "* **Participate in AIML competitions:**  Test your skills and learn from others by participating in challenges like Kaggle competitions.\n",
      "\n",
      "**Stay up-to-date:**\n",
      "\n",
      "* **Read research papers:**  AIML is a rapidly evolving field. Keep up with the latest advancements by reading papers from conferences like NeurIPS and ICML.\n",
      "* **Follow industry blogs and news:**  Stay informed about new tools, techniques, and trends.\n",
      "\n",
      "**Network with other AIML enthusiasts:**\n",
      "\n",
      "* **Attend conferences and meetups:**  Connect with other professionals and learn from their experiences.\n",
      "* **Join online communities:**  Engage in discussions and share your knowledge with others.\n",
      "\n",
      "Remember, learning AIML is a journey, not a destination. Be patient, persistent, and enjoy the process! \n",
      "\n",
      "If you have any specific questions about AIML or need help finding resources, feel free to ask. I'm here to support you.\n",
      "\n"
     ]
    }
   ],
   "source": [
    "response = with_message_history.invoke(\n",
    "    [HumanMessage(content=\"I study AIML\")],\n",
    "    config=config\n",
    ")\n",
    "print(response.content)"
   ]
  },
  {
   "cell_type": "code",
   "execution_count": 26,
   "metadata": {},
   "outputs": [
    {
     "name": "stdout",
     "output_type": "stream",
     "text": [
      "You're already on the right track studying AIML!  Since you're interested in AIML, I think you'd benefit from exploring these related fields:\n",
      "\n",
      "**Core AI Concepts:**\n",
      "\n",
      "* **Machine Learning (ML):**  The foundation of AIML.  Dive into supervised, unsupervised, and reinforcement learning algorithms.\n",
      "* **Deep Learning (DL):**  A subset of ML using artificial neural networks for complex pattern recognition. Explore architectures like CNNs (for images) and RNNs (for text).\n",
      "* **Natural Language Processing (NLP):**  Focus on how computers understand and generate human language. Learn about text classification, sentiment analysis, machine translation, and chatbots.\n",
      "\n",
      "**Technical Skills:**\n",
      "\n",
      "* **Programming:** Python is the dominant language in AI. Master its fundamentals and explore libraries like TensorFlow, PyTorch, and Scikit-learn.\n",
      "* **Data Structures and Algorithms:**  Essential for efficient data handling and algorithm design in AI.\n",
      "\n",
      "**Other Relevant Areas:**\n",
      "\n",
      "* **Computer Science Fundamentals:**  Strong understanding of algorithms, data structures, and software engineering principles.\n",
      "* **Mathematics:**  Linear algebra, calculus, probability, and statistics are crucial for understanding AI algorithms.\n",
      "* **Ethics in AI:**  Consider the societal impact of AI and learn about responsible development and deployment.\n",
      "\n",
      "**How to Learn:**\n",
      "\n",
      "* **Online Courses:** Platforms like Coursera, edX, Udacity, and fast.ai offer excellent AI courses.\n",
      "* **Books:**  There are many great books on AI, ML, and DL.\n",
      "* **Projects:**  Build your own AI projects to solidify your understanding.\n",
      "* **Open-Source Contributions:**  Contribute to open-source AI projects to gain real-world experience.\n",
      "\n",
      "Remember, learning AI is a continuous journey. Stay curious, keep experimenting, and enjoy the process!\n",
      "\n"
     ]
    }
   ],
   "source": [
    "response = with_message_history.invoke(\n",
    "    [HumanMessage(content=\"What do I study?\")],\n",
    "    config=config\n",
    ")\n",
    "print(response.content)"
   ]
  }
 ],
 "metadata": {
  "kernelspec": {
   "display_name": "Python 3",
   "language": "python",
   "name": "python3"
  },
  "language_info": {
   "codemirror_mode": {
    "name": "ipython",
    "version": 3
   },
   "file_extension": ".py",
   "mimetype": "text/x-python",
   "name": "python",
   "nbconvert_exporter": "python",
   "pygments_lexer": "ipython3",
   "version": "3.12.2"
  }
 },
 "nbformat": 4,
 "nbformat_minor": 2
}
